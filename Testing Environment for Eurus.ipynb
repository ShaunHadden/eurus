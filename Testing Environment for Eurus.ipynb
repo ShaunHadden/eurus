{
 "cells": [
  {
   "cell_type": "markdown",
   "metadata": {},
   "source": [
    "# Testing Environment for Eurus\n",
    "Shaun Hadden & Brendan Smithyman | October, 2015"
   ]
  },
  {
   "cell_type": "markdown",
   "metadata": {},
   "source": [
    "## Imports"
   ]
  },
  {
   "cell_type": "code",
   "execution_count": null,
   "metadata": {
    "collapsed": false
   },
   "outputs": [],
   "source": [
    "import numpy as np\n",
    "from extend import Eurus"
   ]
  },
  {
   "cell_type": "code",
   "execution_count": null,
   "metadata": {
    "collapsed": true
   },
   "outputs": [],
   "source": [
    "import matplotlib.pyplot as plt\n",
    "import matplotlib.cm as cm\n",
    "\n",
    "%matplotlib inline"
   ]
  },
  {
   "cell_type": "markdown",
   "metadata": {},
   "source": [
    "## Helper functions"
   ]
  },
  {
   "cell_type": "code",
   "execution_count": null,
   "metadata": {
    "collapsed": true
   },
   "outputs": [],
   "source": [
    "class Source(object):\n",
    "    \n",
    "    def __init__(self, sc):\n",
    "                \n",
    "        self._x, self._z = np.mgrid[\n",
    "            0:sc['dx']*sc['nx']:sc['dx'],\n",
    "            0:sc['dz']*sc['nz']:sc['dz']\n",
    "        ]\n",
    "    \n",
    "    def __call__(self, x, z):\n",
    "        \n",
    "        dist = np.sqrt((self._x - x)**2 + (self._z - z)**2)\n",
    "        srcterm = 1.*(dist == dist.min())\n",
    "        nz, nx = self._x.shape\n",
    "        \n",
    "        return np.hstack([srcterm.ravel() / srcterm.sum(), np.zeros(nx*nz, dtype=np.complex128)])"
   ]
  },
  {
   "cell_type": "markdown",
   "metadata": {},
   "source": [
    "## Modelling setup"
   ]
  },
  {
   "cell_type": "code",
   "execution_count": null,
   "metadata": {
    "collapsed": true
   },
   "outputs": [],
   "source": [
    "# Geometry parameters\n",
    "dx          = 1.\n",
    "dz          = 1.\n",
    "nx          = 100\n",
    "nz          = 200\n",
    "\n",
    "# Bulk parameters\n",
    "velocity    = 2000.     * np.ones((nz,nx))\n",
    "density     = 2700.     * np.ones((nz,nx))\n",
    "\n",
    "# Anisotropy parameters\n",
    "theta       = 0.5*np.pi * np.ones((nz,nx))\n",
    "epsilon     = 0.        * np.ones((nz,nx))\n",
    "delta       = 0.        * np.ones((nz,nx))\n",
    "\n",
    "# Other parameters\n",
    "freq        = 100.\n",
    "freeSurf    = [False, False, False, False]\n",
    "nPML        = 10\n",
    "\n",
    "\n",
    "# Pack values into systemConfig dictionary\n",
    "systemConfig = {\n",
    "    'nx':       nx,\n",
    "    'nz':       nz,\n",
    "    'dx':       dx,\n",
    "    'dz':       dz,\n",
    "\n",
    "    'c':        velocity,\n",
    "    'rho':      density,\n",
    "    \n",
    "    'theta':    theta,\n",
    "    'eps':      epsilon,\n",
    "    'delta':    delta,\n",
    "\n",
    "    'freq':     freq,\n",
    "    'freeSurf': freeSurf,\n",
    "    'nPML':     nPML,\n",
    "}"
   ]
  },
  {
   "cell_type": "markdown",
   "metadata": {},
   "source": [
    "## Testing"
   ]
  },
  {
   "cell_type": "code",
   "execution_count": null,
   "metadata": {
    "collapsed": false
   },
   "outputs": [],
   "source": [
    "Ainv = Eurus(systemConfig)\n",
    "src = Source(systemConfig)"
   ]
  },
  {
   "cell_type": "code",
   "execution_count": null,
   "metadata": {
    "collapsed": false
   },
   "outputs": [],
   "source": [
    "plt.spy(Ainv.A, markersize=0.1, marker=',')"
   ]
  },
  {
   "cell_type": "code",
   "execution_count": null,
   "metadata": {
    "collapsed": false
   },
   "outputs": [],
   "source": [
    "q = src(15,15)\n",
    "u = Ainv*q"
   ]
  },
  {
   "cell_type": "code",
   "execution_count": null,
   "metadata": {
    "collapsed": false
   },
   "outputs": [],
   "source": [
    "plotopts = {\n",
    "    'extent':   [0, nx*dx, nz*dz, 0],\n",
    "    'cmap':     cm.bwr,\n",
    "#     'vmin':     -1.,\n",
    "#     'vmax':     1.,\n",
    "}\n",
    "\n",
    "fig = plt.figure()\n",
    "\n",
    "ax = fig.add_subplot(1,1,1, aspect=1)\n",
    "plt.imshow(u[:nx*nz].reshape((nz,nx)).real, **plotopts)\n",
    "plt.title('Real Wavefield')\n",
    "plt.xlabel('X')\n",
    "plt.ylabel('Z')"
   ]
  },
  {
   "cell_type": "code",
   "execution_count": null,
   "metadata": {
    "collapsed": true
   },
   "outputs": [],
   "source": []
  }
 ],
 "metadata": {
  "kernelspec": {
   "display_name": "Python 2",
   "language": "python",
   "name": "python2"
  },
  "language_info": {
   "codemirror_mode": {
    "name": "ipython",
    "version": 2
   },
   "file_extension": ".py",
   "mimetype": "text/x-python",
   "name": "python",
   "nbconvert_exporter": "python",
   "pygments_lexer": "ipython2",
   "version": "2.7.10"
  }
 },
 "nbformat": 4,
 "nbformat_minor": 0
}
