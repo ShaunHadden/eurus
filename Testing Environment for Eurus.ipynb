{
 "cells": [
  {
   "cell_type": "markdown",
   "metadata": {},
   "source": [
    "# Testing Environment for Eurus\n",
    "Shaun Hadden & Brendan Smithyman | October, 2015"
   ]
  },
  {
   "cell_type": "markdown",
   "metadata": {},
   "source": [
    "## Imports"
   ]
  },
  {
   "cell_type": "code",
   "execution_count": 1,
   "metadata": {
    "collapsed": false
   },
   "outputs": [
    {
     "name": "stdout",
     "output_type": "stream",
     "text": [
      "Cannot import 'fullwv'; callback functions will not work!\n"
     ]
    }
   ],
   "source": [
    "import numpy as np\n",
    "from extend import Eurus"
   ]
  },
  {
   "cell_type": "code",
   "execution_count": 2,
   "metadata": {
    "collapsed": true
   },
   "outputs": [],
   "source": [
    "import matplotlib.pyplot as plt\n",
    "import matplotlib.cm as cm\n",
    "\n",
    "%matplotlib inline"
   ]
  },
  {
   "cell_type": "markdown",
   "metadata": {},
   "source": [
    "## Helper functions"
   ]
  },
  {
   "cell_type": "code",
   "execution_count": 3,
   "metadata": {
    "collapsed": true
   },
   "outputs": [],
   "source": [
    "class Source(object):\n",
    "    \n",
    "    def __init__(self, sc):\n",
    "                \n",
    "        self._x, self._z = np.mgrid[\n",
    "            0:sc['dx']*sc['nx']:sc['dx'],\n",
    "            0:sc['dz']*sc['nz']:sc['dz']\n",
    "        ]\n",
    "    \n",
    "    def __call__(self, x, z):\n",
    "        \n",
    "        dist = np.sqrt((self._x - x)**2 + (self._z - z)**2)\n",
    "        srcterm = 1.*(dist == dist.min())\n",
    "        nz, nx = self._x.shape\n",
    "        \n",
    "        return np.hstack([srcterm.ravel() / srcterm.sum(), np.zeros(nx*nz, dtype=np.complex128)])"
   ]
  },
  {
   "cell_type": "markdown",
   "metadata": {},
   "source": [
    "## Modelling setup"
   ]
  },
  {
   "cell_type": "code",
   "execution_count": 4,
   "metadata": {
    "collapsed": true
   },
   "outputs": [],
   "source": [
    "# Geometry parameters\n",
    "dx          = 1.\n",
    "dz          = 1.\n",
    "nx          = 51\n",
    "nz          = 51\n",
    "\n",
    "# Bulk parameters\n",
    "velocity    = 2000.     * np.ones((nz,nx))\n",
    "density     = 1.     * np.ones((nz,nx))\n",
    "\n",
    "# Anisotropy parameters\n",
    "theta       = 0.         * np.ones((nz,nx))\n",
    "epsilon     = 0.2        * np.ones((nz,nx))\n",
    "delta       = 0.1        * np.ones((nz,nx))\n",
    "\n",
    "# Other parameters\n",
    "freq        = 8.\n",
    "freeSurf    = [False, False, False, False]\n",
    "nPML        = 5\n",
    "\n",
    "\n",
    "# Pack values into systemConfig dictionary\n",
    "systemConfig = {\n",
    "    'nx':       nx,\n",
    "    'nz':       nz,\n",
    "    'dx':       dx,\n",
    "    'dz':       dz,\n",
    "\n",
    "    'c':        velocity,\n",
    "    'rho':      density,\n",
    "    \n",
    "    'theta':    theta,\n",
    "    'eps':      epsilon,\n",
    "    'delta':    delta,\n",
    "\n",
    "    'freq':     freq,\n",
    "    'freeSurf': freeSurf,\n",
    "    'nPML':     nPML,\n",
    "}"
   ]
  },
  {
   "cell_type": "markdown",
   "metadata": {},
   "source": [
    "## Testing"
   ]
  },
  {
   "cell_type": "code",
   "execution_count": 5,
   "metadata": {
    "collapsed": false
   },
   "outputs": [],
   "source": [
    "Ainv = Eurus(systemConfig)\n",
    "src = Source(systemConfig)"
   ]
  },
  {
   "cell_type": "code",
   "execution_count": 6,
   "metadata": {
    "collapsed": false
   },
   "outputs": [
    {
     "name": "stdout",
     "output_type": "stream",
     "text": [
      "[[ 1.99470445 +9.99985978e-01j  1.99470445 +9.99985978e-01j\n",
      "   1.91898708 +9.23866578e-01j  1.70336226 +7.07096866e-01j\n",
      "   1.38065691 +3.82678067e-01j  1.00000000 +6.12314814e-17j\n",
      "   1.00000000 +0.00000000e+00j  1.00000000 +0.00000000e+00j\n",
      "   1.00000000 +0.00000000e+00j  1.00000000 +0.00000000e+00j\n",
      "   1.00000000 +0.00000000e+00j  1.00000000 +0.00000000e+00j\n",
      "   1.00000000 +0.00000000e+00j  1.00000000 +0.00000000e+00j\n",
      "   1.00000000 +0.00000000e+00j  1.00000000 +0.00000000e+00j\n",
      "   1.00000000 +0.00000000e+00j  1.00000000 +0.00000000e+00j\n",
      "   1.00000000 +0.00000000e+00j  1.00000000 +0.00000000e+00j\n",
      "   1.00000000 +0.00000000e+00j  1.00000000 +0.00000000e+00j\n",
      "   1.00000000 +0.00000000e+00j  1.00000000 +0.00000000e+00j\n",
      "   1.00000000 +0.00000000e+00j  1.00000000 +0.00000000e+00j\n",
      "   1.00000000 +0.00000000e+00j  1.00000000 +0.00000000e+00j\n",
      "   1.00000000 +0.00000000e+00j  1.00000000 +0.00000000e+00j\n",
      "   1.00000000 +0.00000000e+00j  1.00000000 +0.00000000e+00j\n",
      "   1.00000000 +0.00000000e+00j  1.00000000 +0.00000000e+00j\n",
      "   1.00000000 +0.00000000e+00j  1.00000000 +0.00000000e+00j\n",
      "   1.00000000 +0.00000000e+00j  1.00000000 +0.00000000e+00j\n",
      "   1.00000000 +0.00000000e+00j  1.00000000 +0.00000000e+00j\n",
      "   1.00000000 +0.00000000e+00j  1.00000000 +0.00000000e+00j\n",
      "   1.00000000 +0.00000000e+00j  1.00000000 +0.00000000e+00j\n",
      "   1.00000000 +0.00000000e+00j  1.00000000 +0.00000000e+00j\n",
      "   1.00000000 +0.00000000e+00j  1.00000000 +6.12314814e-17j\n",
      "   1.38065691 +3.82678067e-01j  1.70336226 +7.07096866e-01j\n",
      "   1.91898708 +9.23866578e-01j  1.99470445 +9.99985978e-01j\n",
      "   1.99470445 +9.99985978e-01j]]\n"
     ]
    },
    {
     "data": {
      "text/plain": [
       "<matplotlib.lines.Line2D at 0x7fd35488c050>"
      ]
     },
     "execution_count": 6,
     "metadata": {},
     "output_type": "execute_result"
    },
    {
     "data": {
      "image/png": "[encoded data removed]",
      "text/plain": [
       "<matplotlib.figure.Figure at 0x7fd354ab99d0>"
      ]
     },
     "metadata": {},
     "output_type": "display_data"
    }
   ],
   "source": [
    "plt.spy(Ainv.A, markersize=0.1, marker=',')"
   ]
  },
  {
   "cell_type": "code",
   "execution_count": 7,
   "metadata": {
    "collapsed": false
   },
   "outputs": [],
   "source": [
    "q = src(25,25)\n",
    "u = Ainv*q"
   ]
  },
  {
   "cell_type": "code",
   "execution_count": 8,
   "metadata": {
    "collapsed": false
   },
   "outputs": [
    {
     "data": {
      "text/plain": [
       "<matplotlib.text.Text at 0x7fd3548168d0>"
      ]
     },
     "execution_count": 8,
     "metadata": {},
     "output_type": "execute_result"
    },
    {
     "data": {
      "image/png": "[encoded data removed]",
      "text/plain": [
       "<matplotlib.figure.Figure at 0x7fd3548aca10>"
      ]
     },
     "metadata": {},
     "output_type": "display_data"
    }
   ],
   "source": [
    "plotopts = {\n",
    "    'extent':   [0, nx*dx, nz*dz, 0],\n",
    "    'cmap':     cm.bwr,\n",
    "#     'vmin':     -1.,\n",
    "#     'vmax':     1.,\n",
    "}\n",
    "\n",
    "fig = plt.figure()\n",
    "\n",
    "ax = fig.add_subplot(1,1,1, aspect=1)\n",
    "plt.imshow(u[:nx*nz].reshape((nz,nx)).real, **plotopts)\n",
    "plt.title('Real Wavefield')\n",
    "plt.xlabel('X')\n",
    "plt.ylabel('Z')"
   ]
  },
  {
   "cell_type": "code",
   "execution_count": null,
   "metadata": {
    "collapsed": true
   },
   "outputs": [],
   "source": []
  },
  {
   "cell_type": "code",
   "execution_count": null,
   "metadata": {
    "collapsed": true
   },
   "outputs": [],
   "source": []
  }
 ],
 "metadata": {
  "kernelspec": {
   "display_name": "Python 2",
   "language": "python",
   "name": "python2"
  },
  "language_info": {
   "codemirror_mode": {
    "name": "ipython",
    "version": 2
   },
   "file_extension": ".py",
   "mimetype": "text/x-python",
   "name": "python",
   "nbconvert_exporter": "python",
   "pygments_lexer": "ipython2",
   "version": "2.7.10"
  }
 },
 "nbformat": 4,
 "nbformat_minor": 0
}
