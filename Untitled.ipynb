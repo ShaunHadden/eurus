{
 "cells": [
  {
   "cell_type": "code",
   "execution_count": 15,
   "metadata": {
    "collapsed": false
   },
   "outputs": [
    {
     "name": "stdout",
     "output_type": "stream",
     "text": [
      "80\n",
      "[ 0 20 40 60 80]\n",
      "[[ 1. +9.74542958e-17j  1. +9.74542958e-17j  1. +7.30907219e-17j\n",
      "   1. +4.87271479e-17j  1. +2.43635740e-17j  1. +0.00000000e+00j\n",
      "   1. +0.00000000e+00j  1. +0.00000000e+00j  1. +0.00000000e+00j\n",
      "   1. +0.00000000e+00j  1. +0.00000000e+00j  1. +0.00000000e+00j\n",
      "   1. +0.00000000e+00j  1. +0.00000000e+00j  1. +0.00000000e+00j\n",
      "   1. +0.00000000e+00j  1. +0.00000000e+00j  1. +2.43635740e-17j\n",
      "   1. +4.87271479e-17j  1. +7.30907219e-17j  1. +9.74542958e-17j\n",
      "   1. +9.74542958e-17j]]\n",
      "[[ 1. +9.74542958e-17j]\n",
      " [ 1. +9.74542958e-17j]\n",
      " [ 1. +7.30907219e-17j]\n",
      " [ 1. +4.87271479e-17j]\n",
      " [ 1. +2.43635740e-17j]\n",
      " [ 1. +0.00000000e+00j]\n",
      " [ 1. +0.00000000e+00j]\n",
      " [ 1. +0.00000000e+00j]\n",
      " [ 1. +0.00000000e+00j]\n",
      " [ 1. +0.00000000e+00j]\n",
      " [ 1. +0.00000000e+00j]\n",
      " [ 1. +0.00000000e+00j]\n",
      " [ 1. +0.00000000e+00j]\n",
      " [ 1. +0.00000000e+00j]\n",
      " [ 1. +0.00000000e+00j]\n",
      " [ 1. +0.00000000e+00j]\n",
      " [ 1. +0.00000000e+00j]\n",
      " [ 1. +2.43635740e-17j]\n",
      " [ 1. +4.87271479e-17j]\n",
      " [ 1. +7.30907219e-17j]\n",
      " [ 1. +9.74542958e-17j]\n",
      " [ 1. +9.74542958e-17j]]\n"
     ]
    }
   ],
   "source": [
    "import numpy as np\n",
    "nPML= 5\n",
    "dx= 20\n",
    "dz= 20\n",
    "nx=20\n",
    "nz=20\n",
    "freq=10\n",
    "omega   = 2*np.pi * freq\n",
    "\n",
    "pmldx   = dx*(nPML - 1)\n",
    "print pmldx\n",
    "pmldz   = dz*(nPML - 1)\n",
    "c_PML   = 100\n",
    "\n",
    "gamma_x = np.zeros(nx, dtype=np.complex128)\n",
    "gamma_z = np.zeros(nz, dtype=np.complex128)\n",
    "\n",
    "\n",
    "x_vals  = np.arange(0,pmldx+dx,dx)\n",
    "print x_vals\n",
    "\n",
    "z_vals  = np.arange(0,pmldz+dz,dz)\n",
    "\n",
    "#nPML=nPML-1\n",
    "gamma_x[-nPML:]  = c_PML * (np.cos(np.pi/2))* x_vals/pmldx\n",
    "gamma_x[:nPML] = c_PML * (np.cos(np.pi/2))* x_vals[::-1]/pmldx\n",
    "\n",
    "gamma_z[-nPML:]  = c_PML * (np.cos(np.pi/2))* z_vals/pmldz\n",
    "gamma_z[:nPML] = c_PML * (np.cos(np.pi/2))* z_vals[::-1]/pmldz\n",
    "\n",
    "gamma_x = np.pad(gamma_x, pad_width=1, mode='edge')\n",
    "gamma_z = np.pad(gamma_z, pad_width=1, mode='edge')\n",
    "\n",
    "Xi_x     = 1 + ((1j *gamma_x.reshape((1,nx+2)))/omega)\n",
    "Xi_z     = 1 + ((1j *gamma_z.reshape((nz+2,1)))/omega)\n",
    "\n",
    "\n",
    "print Xi_x\n",
    "print Xi_z"
   ]
  },
  {
   "cell_type": "code",
   "execution_count": 16,
   "metadata": {
    "collapsed": false
   },
   "outputs": [
    {
     "data": {
      "text/plain": [
       "array([ 0, 20, 40, 60, 80])"
      ]
     },
     "execution_count": 16,
     "metadata": {},
     "output_type": "execute_result"
    }
   ],
   "source": [
    "x_vals.T"
   ]
  },
  {
   "cell_type": "code",
   "execution_count": 17,
   "metadata": {
    "collapsed": false
   },
   "outputs": [
    {
     "data": {
      "text/plain": [
       "array([ 0, 20, 40, 60, 80])"
      ]
     },
     "execution_count": 17,
     "metadata": {},
     "output_type": "execute_result"
    }
   ],
   "source": [
    "x_vals"
   ]
  },
  {
   "cell_type": "code",
   "execution_count": 18,
   "metadata": {
    "collapsed": false
   },
   "outputs": [
    {
     "ename": "SyntaxError",
     "evalue": "invalid syntax (<ipython-input-18-da26787f6fca>, line 1)",
     "output_type": "error",
     "traceback": [
      "\u001b[0;36m  File \u001b[0;32m\"<ipython-input-18-da26787f6fca>\"\u001b[0;36m, line \u001b[0;32m1\u001b[0m\n\u001b[0;31m    type x_vals\u001b[0m\n\u001b[0m              ^\u001b[0m\n\u001b[0;31mSyntaxError\u001b[0m\u001b[0;31m:\u001b[0m invalid syntax\n"
     ]
    }
   ],
   "source": [
    "type x_vals"
   ]
  },
  {
   "cell_type": "code",
   "execution_count": null,
   "metadata": {
    "collapsed": true
   },
   "outputs": [],
   "source": []
  }
 ],
 "metadata": {
  "kernelspec": {
   "display_name": "Python 2",
   "language": "python",
   "name": "python2"
  },
  "language_info": {
   "codemirror_mode": {
    "name": "ipython",
    "version": 2
   },
   "file_extension": ".py",
   "mimetype": "text/x-python",
   "name": "python",
   "nbconvert_exporter": "python",
   "pygments_lexer": "ipython2",
   "version": "2.7.10"
  }
 },
 "nbformat": 4,
 "nbformat_minor": 0
}
